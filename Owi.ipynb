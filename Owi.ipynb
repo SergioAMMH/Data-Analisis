{
 "cells": [
  {
   "cell_type": "markdown",
   "id": "d364b387",
   "metadata": {},
   "source": [
    "# Hola mundo equivalente al Git"
   ]
  },
  {
   "cell_type": "markdown",
   "id": "68c42340",
   "metadata": {},
   "source": [
    "Desde el tema de Numpy, este archivo se convirtió en un equivalente a al documentos de ejemplos de clase."
   ]
  },
  {
   "cell_type": "markdown",
   "id": "9a57ae97",
   "metadata": {},
   "source": [
    "# Tema 1. Conceptos Basicos de Python."
   ]
  },
  {
   "cell_type": "markdown",
   "id": "5dc77dd9",
   "metadata": {},
   "source": [
    "# Tema 2. Numpy"
   ]
  },
  {
   "cell_type": "markdown",
   "id": "aa4273a2",
   "metadata": {},
   "source": [
    "* **Ejercicio 1:**\n",
    "\n",
    "\n",
    "Hacer una matriz de 8 x 8 con numeros enteros consecutivos empezando en 1. Llenado por filas (1,2,3,4...)."
   ]
  },
  {
   "cell_type": "code",
   "execution_count": 1,
   "id": "a1eee10f",
   "metadata": {},
   "outputs": [],
   "source": [
    "import numpy as np"
   ]
  },
  {
   "cell_type": "code",
   "execution_count": 2,
   "id": "f1029d9f",
   "metadata": {},
   "outputs": [],
   "source": [
    "alpha = np.arange(1,65,1)"
   ]
  },
  {
   "cell_type": "code",
   "execution_count": 3,
   "id": "9d140590",
   "metadata": {},
   "outputs": [],
   "source": [
    "beta = np.reshape(alpha,(8,8))"
   ]
  },
  {
   "cell_type": "markdown",
   "id": "bbfbaa5f",
   "metadata": {},
   "source": [
    "#### **Ejercicio 2:**\n",
    "\n",
    "* i. Hacer una matriz de 8 x 8 con numeros enteros consecutivos empezando en 1. Llenado por columnas.\n",
    "\n",
    "* ii. reemplazar los elementos que tengan al menos un 3 por -99."
   ]
  },
  {
   "cell_type": "code",
   "execution_count": 4,
   "id": "99b275d1",
   "metadata": {},
   "outputs": [],
   "source": [
    "alpha = beta\n",
    "beta = np.transpose(beta)"
   ]
  },
  {
   "cell_type": "code",
   "execution_count": 5,
   "id": "d497876d",
   "metadata": {},
   "outputs": [
    {
     "data": {
      "text/plain": [
       "array([[ 1,  2,  3,  4,  5,  6,  7,  8],\n",
       "       [ 9, 10, 11, 12, 13, 14, 15, 16],\n",
       "       [17, 18, 19, 20, 21, 22, 23, 24],\n",
       "       [25, 26, 27, 28, 29, 30, 31, 32],\n",
       "       [33, 34, 35, 36, 37, 38, 39, 40],\n",
       "       [41, 42, 43, 44, 45, 46, 47, 48],\n",
       "       [49, 50, 51, 52, 53, 54, 55, 56],\n",
       "       [57, 58, 59, 60, 61, 62, 63, 64]])"
      ]
     },
     "execution_count": 5,
     "metadata": {},
     "output_type": "execute_result"
    }
   ],
   "source": [
    "alpha"
   ]
  },
  {
   "cell_type": "code",
   "execution_count": 6,
   "id": "892b9f94",
   "metadata": {},
   "outputs": [
    {
     "data": {
      "text/plain": [
       "array([[ 1,  9, 17, 25, 33, 41, 49, 57],\n",
       "       [ 2, 10, 18, 26, 34, 42, 50, 58],\n",
       "       [ 3, 11, 19, 27, 35, 43, 51, 59],\n",
       "       [ 4, 12, 20, 28, 36, 44, 52, 60],\n",
       "       [ 5, 13, 21, 29, 37, 45, 53, 61],\n",
       "       [ 6, 14, 22, 30, 38, 46, 54, 62],\n",
       "       [ 7, 15, 23, 31, 39, 47, 55, 63],\n",
       "       [ 8, 16, 24, 32, 40, 48, 56, 64]])"
      ]
     },
     "execution_count": 6,
     "metadata": {},
     "output_type": "execute_result"
    }
   ],
   "source": [
    "beta"
   ]
  },
  {
   "cell_type": "code",
   "execution_count": 7,
   "id": "98fd896f",
   "metadata": {},
   "outputs": [],
   "source": [
    "for i in range(8):\n",
    "    for j in range(8):\n",
    "        epsilon = str(beta[i][j])\n",
    "        omega = epsilon.find('3')\n",
    "        if (omega != -1):\n",
    "            beta[i][j] = -99\n",
    "            "
   ]
  },
  {
   "cell_type": "code",
   "execution_count": 8,
   "id": "b6adbcf9",
   "metadata": {},
   "outputs": [
    {
     "data": {
      "text/plain": [
       "array([[  1,   9,  17,  25, -99,  41,  49,  57],\n",
       "       [  2,  10,  18,  26, -99,  42,  50,  58],\n",
       "       [-99,  11,  19,  27, -99, -99,  51,  59],\n",
       "       [  4,  12,  20,  28, -99,  44,  52,  60],\n",
       "       [  5, -99,  21,  29, -99,  45, -99,  61],\n",
       "       [  6,  14,  22, -99, -99,  46,  54,  62],\n",
       "       [  7,  15, -99, -99, -99,  47,  55, -99],\n",
       "       [  8,  16,  24, -99,  40,  48,  56,  64]])"
      ]
     },
     "execution_count": 8,
     "metadata": {},
     "output_type": "execute_result"
    }
   ],
   "source": [
    "beta"
   ]
  },
  {
   "cell_type": "code",
   "execution_count": 9,
   "id": "32f5192d",
   "metadata": {},
   "outputs": [
    {
     "data": {
      "text/plain": [
       "-1"
      ]
     },
     "execution_count": 9,
     "metadata": {},
     "output_type": "execute_result"
    }
   ],
   "source": [
    "a = 'alpha'\n",
    "a.find('@')\n"
   ]
  },
  {
   "cell_type": "markdown",
   "id": "3463af25",
   "metadata": {},
   "source": [
    "#### Ejercicio 3: \n",
    "* i. Reproducir la matriz B:\n",
    "[[0.4 0.41 0.42 0.43 0.44] \n",
    "[0.45 0.46 0.47 0.48 0.49] ,\n",
    "[0.5 0.51 0.52 0.53 0.54]\n",
    "[0.55 0.56 0.57 0.58 0.59]\n",
    "[0.6 0.61 0.62 0.63 0.64]\n",
    "[0.65 0.66 0.67 0.68 0.69]\n",
    "[0.7 0.71 0.72 0.73 0.74]\n",
    "[0.75 0.76 0.77 0.78 0.79]]\n",
    "\n",
    "* ii. Unir B con el resultado del ejercicio anterior 2.ii para obtener una matriz de 8 lineas y 13 columnas.\n",
    "\n",
    "* iii. Agregar una linea al final con el promedio de cada columna\n",
    "\n",
    "* iv. Agregar una columna al final con el valor maximo de cada fila\n",
    "\n",
    "* v. Guardar en un archivo."
   ]
  },
  {
   "cell_type": "code",
   "execution_count": 10,
   "id": "d0294994",
   "metadata": {},
   "outputs": [
    {
     "data": {
      "text/plain": [
       "array([0.4 , 0.41, 0.42, 0.43, 0.44, 0.45, 0.46, 0.47, 0.48, 0.49, 0.5 ,\n",
       "       0.51, 0.52, 0.53, 0.54, 0.55, 0.56, 0.57, 0.58, 0.59, 0.6 , 0.61,\n",
       "       0.62, 0.63, 0.64, 0.65, 0.66, 0.67, 0.68, 0.69, 0.7 , 0.71, 0.72,\n",
       "       0.73, 0.74, 0.75, 0.76, 0.77, 0.78, 0.79])"
      ]
     },
     "execution_count": 10,
     "metadata": {},
     "output_type": "execute_result"
    }
   ],
   "source": [
    "#i\n",
    "B = np.arange(0.4,0.8,0.01)\n",
    "B"
   ]
  },
  {
   "cell_type": "code",
   "execution_count": 11,
   "id": "01894cd9",
   "metadata": {},
   "outputs": [],
   "source": [
    "B = np.reshape(B,(8,5))"
   ]
  },
  {
   "cell_type": "code",
   "execution_count": 12,
   "id": "982dba5b",
   "metadata": {},
   "outputs": [
    {
     "data": {
      "text/plain": [
       "array([[0.4 , 0.41, 0.42, 0.43, 0.44],\n",
       "       [0.45, 0.46, 0.47, 0.48, 0.49],\n",
       "       [0.5 , 0.51, 0.52, 0.53, 0.54],\n",
       "       [0.55, 0.56, 0.57, 0.58, 0.59],\n",
       "       [0.6 , 0.61, 0.62, 0.63, 0.64],\n",
       "       [0.65, 0.66, 0.67, 0.68, 0.69],\n",
       "       [0.7 , 0.71, 0.72, 0.73, 0.74],\n",
       "       [0.75, 0.76, 0.77, 0.78, 0.79]])"
      ]
     },
     "execution_count": 12,
     "metadata": {},
     "output_type": "execute_result"
    }
   ],
   "source": [
    "B"
   ]
  },
  {
   "cell_type": "code",
   "execution_count": 13,
   "id": "b3a0f6fc",
   "metadata": {},
   "outputs": [
    {
     "data": {
      "text/plain": [
       "array([[  1,   9,  17,  25, -99,  41,  49,  57],\n",
       "       [  2,  10,  18,  26, -99,  42,  50,  58],\n",
       "       [-99,  11,  19,  27, -99, -99,  51,  59],\n",
       "       [  4,  12,  20,  28, -99,  44,  52,  60],\n",
       "       [  5, -99,  21,  29, -99,  45, -99,  61],\n",
       "       [  6,  14,  22, -99, -99,  46,  54,  62],\n",
       "       [  7,  15, -99, -99, -99,  47,  55, -99],\n",
       "       [  8,  16,  24, -99,  40,  48,  56,  64]])"
      ]
     },
     "execution_count": 13,
     "metadata": {},
     "output_type": "execute_result"
    }
   ],
   "source": [
    "#ii\n",
    "beta"
   ]
  },
  {
   "cell_type": "code",
   "execution_count": 14,
   "id": "c78da9f4",
   "metadata": {},
   "outputs": [],
   "source": [
    "Bbeta = np.append(B,beta,axis=1)\n"
   ]
  },
  {
   "cell_type": "code",
   "execution_count": 15,
   "id": "afb9f202",
   "metadata": {},
   "outputs": [
    {
     "data": {
      "text/plain": [
       "(8, 13)"
      ]
     },
     "execution_count": 15,
     "metadata": {},
     "output_type": "execute_result"
    }
   ],
   "source": [
    "np.shape(Bbeta)"
   ]
  },
  {
   "cell_type": "code",
   "execution_count": 16,
   "id": "71ee661b",
   "metadata": {},
   "outputs": [
    {
     "data": {
      "text/plain": [
       "array([[  0.4 ,   0.41,   0.42,   0.43,   0.44,   1.  ,   9.  ,  17.  ,\n",
       "         25.  , -99.  ,  41.  ,  49.  ,  57.  ],\n",
       "       [  0.45,   0.46,   0.47,   0.48,   0.49,   2.  ,  10.  ,  18.  ,\n",
       "         26.  , -99.  ,  42.  ,  50.  ,  58.  ],\n",
       "       [  0.5 ,   0.51,   0.52,   0.53,   0.54, -99.  ,  11.  ,  19.  ,\n",
       "         27.  , -99.  , -99.  ,  51.  ,  59.  ],\n",
       "       [  0.55,   0.56,   0.57,   0.58,   0.59,   4.  ,  12.  ,  20.  ,\n",
       "         28.  , -99.  ,  44.  ,  52.  ,  60.  ],\n",
       "       [  0.6 ,   0.61,   0.62,   0.63,   0.64,   5.  , -99.  ,  21.  ,\n",
       "         29.  , -99.  ,  45.  , -99.  ,  61.  ],\n",
       "       [  0.65,   0.66,   0.67,   0.68,   0.69,   6.  ,  14.  ,  22.  ,\n",
       "        -99.  , -99.  ,  46.  ,  54.  ,  62.  ],\n",
       "       [  0.7 ,   0.71,   0.72,   0.73,   0.74,   7.  ,  15.  , -99.  ,\n",
       "        -99.  , -99.  ,  47.  ,  55.  , -99.  ],\n",
       "       [  0.75,   0.76,   0.77,   0.78,   0.79,   8.  ,  16.  ,  24.  ,\n",
       "        -99.  ,  40.  ,  48.  ,  56.  ,  64.  ]])"
      ]
     },
     "execution_count": 16,
     "metadata": {},
     "output_type": "execute_result"
    }
   ],
   "source": [
    "Bbeta"
   ]
  },
  {
   "cell_type": "code",
   "execution_count": 32,
   "id": "28e48cfd",
   "metadata": {},
   "outputs": [],
   "source": [
    "#iii Agregar una linea al final con el promedio de cada columna\n",
    "Omicron = np.array([])\n",
    "for i in range(13):\n",
    "    omicron = np.mean(Bbeta[:,i])\n",
    "    Omicron = np.append(Omicron,omicron)\n"
   ]
  },
  {
   "cell_type": "code",
   "execution_count": 52,
   "id": "a00cb742",
   "metadata": {},
   "outputs": [
    {
     "data": {
      "text/plain": [
       "array([  0.45,   0.46,   0.47,   0.48,   0.49,   2.  ,  10.  ,  18.  ,\n",
       "        26.  , -99.  ,  42.  ,  50.  ,  58.  ])"
      ]
     },
     "execution_count": 52,
     "metadata": {},
     "output_type": "execute_result"
    }
   ],
   "source": [
    "Bbeta[1,:]"
   ]
  },
  {
   "cell_type": "code",
   "execution_count": 53,
   "id": "7047eacc",
   "metadata": {},
   "outputs": [
    {
     "data": {
      "text/plain": [
       "array([  0.45,   0.46,   0.47,   0.48,   0.49,   2.  ,  10.  ,  18.  ,\n",
       "        26.  , -99.  ,  42.  ,  50.  ,  58.  ])"
      ]
     },
     "execution_count": 53,
     "metadata": {},
     "output_type": "execute_result"
    }
   ],
   "source": [
    "Bbeta[1][:]"
   ]
  },
  {
   "cell_type": "code",
   "execution_count": 51,
   "id": "c6f21468",
   "metadata": {},
   "outputs": [
    {
     "data": {
      "text/plain": [
       "array([  0.45,   0.46,   0.47,   0.48,   0.49,   2.  ,  10.  ,  18.  ,\n",
       "        26.  , -99.  ,  42.  ,  50.  ,  58.  ])"
      ]
     },
     "execution_count": 51,
     "metadata": {},
     "output_type": "execute_result"
    }
   ],
   "source": [
    "Bbeta[:][1]"
   ]
  },
  {
   "cell_type": "code",
   "execution_count": 54,
   "id": "7a74e38b",
   "metadata": {},
   "outputs": [
    {
     "ename": "IndexError",
     "evalue": "index 8 is out of bounds for axis 0 with size 8",
     "output_type": "error",
     "traceback": [
      "\u001b[1;31m---------------------------------------------------------------------------\u001b[0m",
      "\u001b[1;31mIndexError\u001b[0m                                Traceback (most recent call last)",
      "Cell \u001b[1;32mIn[54], line 4\u001b[0m\n\u001b[0;32m      2\u001b[0m Omicron2 \u001b[38;5;241m=\u001b[39m np\u001b[38;5;241m.\u001b[39marray([])\n\u001b[0;32m      3\u001b[0m \u001b[38;5;28;01mfor\u001b[39;00m i \u001b[38;5;129;01min\u001b[39;00m \u001b[38;5;28mrange\u001b[39m(\u001b[38;5;241m13\u001b[39m):\n\u001b[1;32m----> 4\u001b[0m     omicron2 \u001b[38;5;241m=\u001b[39m np\u001b[38;5;241m.\u001b[39mmean(\u001b[43mBbeta\u001b[49m\u001b[43m[\u001b[49m\u001b[43mi\u001b[49m\u001b[43m]\u001b[49m[:])\n\u001b[0;32m      5\u001b[0m     Omicron2 \u001b[38;5;241m=\u001b[39m np\u001b[38;5;241m.\u001b[39mappend(Omicron2,omicron2)\n",
      "\u001b[1;31mIndexError\u001b[0m: index 8 is out of bounds for axis 0 with size 8"
     ]
    }
   ],
   "source": [
    "#iii Agregar una linea al final con el promedio de cada columna\n",
    "Omicron2 = np.array([])\n",
    "for i in range(13):\n",
    "    omicron2 = np.mean(Bbeta[i][:])\n",
    "    Omicron2 = np.append(Omicron2,omicron2)"
   ]
  },
  {
   "cell_type": "code",
   "execution_count": 18,
   "id": "d9d6d198",
   "metadata": {},
   "outputs": [
    {
     "data": {
      "text/plain": [
       "array([  0.575,   0.585,   0.595,   0.605,   0.615,  -8.25 ,  -1.5  ,\n",
       "         5.25 , -20.25 , -81.625,  26.75 ,  33.5  ,  40.25 ])"
      ]
     },
     "execution_count": 18,
     "metadata": {},
     "output_type": "execute_result"
    }
   ],
   "source": [
    "Omicron"
   ]
  },
  {
   "cell_type": "code",
   "execution_count": 19,
   "id": "a82ce10b",
   "metadata": {},
   "outputs": [],
   "source": [
    "Bbeta2=np.vstack([Bbeta,Omicron])"
   ]
  },
  {
   "cell_type": "code",
   "execution_count": 20,
   "id": "e024ecfe",
   "metadata": {},
   "outputs": [
    {
     "data": {
      "text/plain": [
       "array([[  0.4  ,   0.41 ,   0.42 ,   0.43 ,   0.44 ,   1.   ,   9.   ,\n",
       "         17.   ,  25.   , -99.   ,  41.   ,  49.   ,  57.   ],\n",
       "       [  0.45 ,   0.46 ,   0.47 ,   0.48 ,   0.49 ,   2.   ,  10.   ,\n",
       "         18.   ,  26.   , -99.   ,  42.   ,  50.   ,  58.   ],\n",
       "       [  0.5  ,   0.51 ,   0.52 ,   0.53 ,   0.54 , -99.   ,  11.   ,\n",
       "         19.   ,  27.   , -99.   , -99.   ,  51.   ,  59.   ],\n",
       "       [  0.55 ,   0.56 ,   0.57 ,   0.58 ,   0.59 ,   4.   ,  12.   ,\n",
       "         20.   ,  28.   , -99.   ,  44.   ,  52.   ,  60.   ],\n",
       "       [  0.6  ,   0.61 ,   0.62 ,   0.63 ,   0.64 ,   5.   , -99.   ,\n",
       "         21.   ,  29.   , -99.   ,  45.   , -99.   ,  61.   ],\n",
       "       [  0.65 ,   0.66 ,   0.67 ,   0.68 ,   0.69 ,   6.   ,  14.   ,\n",
       "         22.   , -99.   , -99.   ,  46.   ,  54.   ,  62.   ],\n",
       "       [  0.7  ,   0.71 ,   0.72 ,   0.73 ,   0.74 ,   7.   ,  15.   ,\n",
       "        -99.   , -99.   , -99.   ,  47.   ,  55.   , -99.   ],\n",
       "       [  0.75 ,   0.76 ,   0.77 ,   0.78 ,   0.79 ,   8.   ,  16.   ,\n",
       "         24.   , -99.   ,  40.   ,  48.   ,  56.   ,  64.   ],\n",
       "       [  0.575,   0.585,   0.595,   0.605,   0.615,  -8.25 ,  -1.5  ,\n",
       "          5.25 , -20.25 , -81.625,  26.75 ,  33.5  ,  40.25 ]])"
      ]
     },
     "execution_count": 20,
     "metadata": {},
     "output_type": "execute_result"
    }
   ],
   "source": [
    "Bbeta2"
   ]
  },
  {
   "cell_type": "code",
   "execution_count": 21,
   "id": "77fc9808",
   "metadata": {},
   "outputs": [],
   "source": [
    "Sigma = np.array([])\n",
    "for i in range(9):\n",
    "    maxcow = max(Bbeta2[i,:])\n",
    "    Sigma= np.append(Sigma,maxcow)"
   ]
  },
  {
   "cell_type": "code",
   "execution_count": 22,
   "id": "f6c8366e",
   "metadata": {},
   "outputs": [
    {
     "data": {
      "text/plain": [
       "array([57.  , 58.  , 59.  , 60.  , 61.  , 62.  , 55.  , 64.  , 40.25])"
      ]
     },
     "execution_count": 22,
     "metadata": {},
     "output_type": "execute_result"
    }
   ],
   "source": [
    "Sigma.transpose()"
   ]
  },
  {
   "cell_type": "code",
   "execution_count": null,
   "id": "7f3837f5",
   "metadata": {},
   "outputs": [],
   "source": []
  },
  {
   "cell_type": "code",
   "execution_count": 23,
   "id": "91caf2c0",
   "metadata": {},
   "outputs": [],
   "source": [
    "Bbeta3 = np.append(Bbeta2, np.array([Sigma]).transpose(),axis=1)"
   ]
  },
  {
   "cell_type": "code",
   "execution_count": 24,
   "id": "54dcc5e8",
   "metadata": {},
   "outputs": [
    {
     "data": {
      "text/plain": [
       "array([[  0.4  ,   0.41 ,   0.42 ,   0.43 ,   0.44 ,   1.   ,   9.   ,\n",
       "         17.   ,  25.   , -99.   ,  41.   ,  49.   ,  57.   ,  57.   ],\n",
       "       [  0.45 ,   0.46 ,   0.47 ,   0.48 ,   0.49 ,   2.   ,  10.   ,\n",
       "         18.   ,  26.   , -99.   ,  42.   ,  50.   ,  58.   ,  58.   ],\n",
       "       [  0.5  ,   0.51 ,   0.52 ,   0.53 ,   0.54 , -99.   ,  11.   ,\n",
       "         19.   ,  27.   , -99.   , -99.   ,  51.   ,  59.   ,  59.   ],\n",
       "       [  0.55 ,   0.56 ,   0.57 ,   0.58 ,   0.59 ,   4.   ,  12.   ,\n",
       "         20.   ,  28.   , -99.   ,  44.   ,  52.   ,  60.   ,  60.   ],\n",
       "       [  0.6  ,   0.61 ,   0.62 ,   0.63 ,   0.64 ,   5.   , -99.   ,\n",
       "         21.   ,  29.   , -99.   ,  45.   , -99.   ,  61.   ,  61.   ],\n",
       "       [  0.65 ,   0.66 ,   0.67 ,   0.68 ,   0.69 ,   6.   ,  14.   ,\n",
       "         22.   , -99.   , -99.   ,  46.   ,  54.   ,  62.   ,  62.   ],\n",
       "       [  0.7  ,   0.71 ,   0.72 ,   0.73 ,   0.74 ,   7.   ,  15.   ,\n",
       "        -99.   , -99.   , -99.   ,  47.   ,  55.   , -99.   ,  55.   ],\n",
       "       [  0.75 ,   0.76 ,   0.77 ,   0.78 ,   0.79 ,   8.   ,  16.   ,\n",
       "         24.   , -99.   ,  40.   ,  48.   ,  56.   ,  64.   ,  64.   ],\n",
       "       [  0.575,   0.585,   0.595,   0.605,   0.615,  -8.25 ,  -1.5  ,\n",
       "          5.25 , -20.25 , -81.625,  26.75 ,  33.5  ,  40.25 ,  40.25 ]])"
      ]
     },
     "execution_count": 24,
     "metadata": {},
     "output_type": "execute_result"
    }
   ],
   "source": [
    "Bbeta3"
   ]
  },
  {
   "cell_type": "code",
   "execution_count": 25,
   "id": "6d1be758",
   "metadata": {},
   "outputs": [],
   "source": [
    "np.savetxt('datos.tsv', Bbeta3, delimiter='\\t', fmt='%.3f')"
   ]
  },
  {
   "cell_type": "code",
   "execution_count": null,
   "id": "c5b3bb43",
   "metadata": {},
   "outputs": [],
   "source": []
  },
  {
   "cell_type": "code",
   "execution_count": null,
   "id": "f66f033f",
   "metadata": {},
   "outputs": [],
   "source": []
  }
 ],
 "metadata": {
  "kernelspec": {
   "display_name": "Python 3 (ipykernel)",
   "language": "python",
   "name": "python3"
  },
  "language_info": {
   "codemirror_mode": {
    "name": "ipython",
    "version": 3
   },
   "file_extension": ".py",
   "mimetype": "text/x-python",
   "name": "python",
   "nbconvert_exporter": "python",
   "pygments_lexer": "ipython3",
   "version": "3.9.12"
  }
 },
 "nbformat": 4,
 "nbformat_minor": 5
}
