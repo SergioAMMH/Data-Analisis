{
 "cells": [
  {
   "cell_type": "markdown",
   "id": "ddf548c9",
   "metadata": {},
   "source": [
    "# Hola mundo equivalente al Git"
   ]
  },
  {
   "cell_type": "raw",
   "id": "0c2e4fab",
   "metadata": {},
   "source": [
    "Desde el tema de Numpy, este archivo se convirtió en un equivalente a al documentos de ejemplos de clase."
   ]
  },
  {
   "cell_type": "markdown",
   "id": "9a57ae97",
   "metadata": {},
   "source": [
    "# Tema 1. Conceptos Basicos de Python."
   ]
  },
  {
   "cell_type": "markdown",
   "id": "5dc77dd9",
   "metadata": {},
   "source": [
    "# Tema 2. Numpy"
   ]
  },
  {
   "cell_type": "markdown",
   "id": "aa4273a2",
   "metadata": {},
   "source": [
    "* **Ejercicio 1:**\n",
    "\n",
    "\n",
    "Hacer una matriz de 8 x 8 con numeros enteros consecutivos empezando en 1. Llenado por filas (1,2,3,4...)."
   ]
  },
  {
   "cell_type": "code",
   "execution_count": 1,
   "id": "a1eee10f",
   "metadata": {},
   "outputs": [],
   "source": [
    "import numpy as np"
   ]
  },
  {
   "cell_type": "code",
   "execution_count": 2,
   "id": "f1029d9f",
   "metadata": {},
   "outputs": [],
   "source": [
    "alpha = np.arange(1,65,1)"
   ]
  },
  {
   "cell_type": "code",
   "execution_count": 3,
   "id": "9d140590",
   "metadata": {},
   "outputs": [],
   "source": [
    "beta = np.reshape(alpha,(8,8))"
   ]
  },
  {
   "cell_type": "markdown",
   "id": "bbfbaa5f",
   "metadata": {},
   "source": [
    "#### **Ejercicio 2:**\n",
    "\n",
    "* i. Hacer una matriz de 8 x 8 con numeros enteros consecutivos empezando en 1. Llenado por columnas.\n",
    "\n",
    "* ii. reemplazar los elementos que tengan al menos un 3 por -99."
   ]
  },
  {
   "cell_type": "code",
   "execution_count": 4,
   "id": "99b275d1",
   "metadata": {},
   "outputs": [],
   "source": [
    "alpha = beta\n",
    "beta = np.transpose(beta)"
   ]
  },
  {
   "cell_type": "code",
   "execution_count": 5,
   "id": "d497876d",
   "metadata": {},
   "outputs": [
    {
     "data": {
      "text/plain": [
       "array([[ 1,  2,  3,  4,  5,  6,  7,  8],\n",
       "       [ 9, 10, 11, 12, 13, 14, 15, 16],\n",
       "       [17, 18, 19, 20, 21, 22, 23, 24],\n",
       "       [25, 26, 27, 28, 29, 30, 31, 32],\n",
       "       [33, 34, 35, 36, 37, 38, 39, 40],\n",
       "       [41, 42, 43, 44, 45, 46, 47, 48],\n",
       "       [49, 50, 51, 52, 53, 54, 55, 56],\n",
       "       [57, 58, 59, 60, 61, 62, 63, 64]])"
      ]
     },
     "execution_count": 5,
     "metadata": {},
     "output_type": "execute_result"
    }
   ],
   "source": [
    "alpha"
   ]
  },
  {
   "cell_type": "code",
   "execution_count": 6,
   "id": "892b9f94",
   "metadata": {},
   "outputs": [
    {
     "data": {
      "text/plain": [
       "array([[ 1,  9, 17, 25, 33, 41, 49, 57],\n",
       "       [ 2, 10, 18, 26, 34, 42, 50, 58],\n",
       "       [ 3, 11, 19, 27, 35, 43, 51, 59],\n",
       "       [ 4, 12, 20, 28, 36, 44, 52, 60],\n",
       "       [ 5, 13, 21, 29, 37, 45, 53, 61],\n",
       "       [ 6, 14, 22, 30, 38, 46, 54, 62],\n",
       "       [ 7, 15, 23, 31, 39, 47, 55, 63],\n",
       "       [ 8, 16, 24, 32, 40, 48, 56, 64]])"
      ]
     },
     "execution_count": 6,
     "metadata": {},
     "output_type": "execute_result"
    }
   ],
   "source": [
    "beta"
   ]
  },
  {
   "cell_type": "code",
   "execution_count": 7,
   "id": "98fd896f",
   "metadata": {},
   "outputs": [],
   "source": [
    "for i in range(8):\n",
    "    for j in range(8):\n",
    "        epsilon = str(beta[i][j])\n",
    "        omega = epsilon.find('3')\n",
    "        if (omega != -1):\n",
    "            beta[i][j] = -99\n",
    "            "
   ]
  },
  {
   "cell_type": "code",
   "execution_count": 8,
   "id": "b6adbcf9",
   "metadata": {},
   "outputs": [
    {
     "data": {
      "text/plain": [
       "array([[  1,   9,  17,  25, -99,  41,  49,  57],\n",
       "       [  2,  10,  18,  26, -99,  42,  50,  58],\n",
       "       [-99,  11,  19,  27, -99, -99,  51,  59],\n",
       "       [  4,  12,  20,  28, -99,  44,  52,  60],\n",
       "       [  5, -99,  21,  29, -99,  45, -99,  61],\n",
       "       [  6,  14,  22, -99, -99,  46,  54,  62],\n",
       "       [  7,  15, -99, -99, -99,  47,  55, -99],\n",
       "       [  8,  16,  24, -99,  40,  48,  56,  64]])"
      ]
     },
     "execution_count": 8,
     "metadata": {},
     "output_type": "execute_result"
    }
   ],
   "source": [
    "beta"
   ]
  },
  {
   "cell_type": "code",
   "execution_count": 9,
   "id": "32f5192d",
   "metadata": {},
   "outputs": [
    {
     "data": {
      "text/plain": [
       "-1"
      ]
     },
     "execution_count": 9,
     "metadata": {},
     "output_type": "execute_result"
    }
   ],
   "source": [
    "a = 'alpha'\n",
    "a.find('@')\n"
   ]
  },
  {
   "cell_type": "markdown",
   "id": "7cc49005",
   "metadata": {},
   "source": [
    "#### Ejercicio 3: \n",
    "* i. Reproducir la matriz B:\n",
    "[[0.4 0.41 0.42 0.43 0.44] \n",
    "[0.45 0.46 0.47 0.48 0.49] ,\n",
    "[0.5 0.51 0.52 0.53 0.54]\n",
    "[0.55 0.56 0.57 0.58 0.59]\n",
    "[0.6 0.61 0.62 0.63 0.64]\n",
    "[0.65 0.66 0.67 0.68 0.69]\n",
    "[0.7 0.71 0.72 0.73 0.74]\n",
    "[0.75 0.76 0.77 0.78 0.79]]\n",
    "\n",
    "* ii. Unir B con el resultado del ejercicio anterior 2.ii para obtener una matriz de 8 lineas y 13 columnas.\n",
    "\n",
    "* iii. Agregar una linea al final con el promedio de cada columna\n",
    "\n",
    "* iv. Agregar una columna al final con el valor maximo de cada fila\n",
    "\n",
    "* v. Guardar en un archivo."
   ]
  },
  {
   "cell_type": "code",
   "execution_count": 25,
   "id": "0d763d19",
   "metadata": {},
   "outputs": [
    {
     "data": {
      "text/plain": [
       "array([0.4 , 0.41, 0.42, 0.43, 0.44, 0.45, 0.46, 0.47, 0.48, 0.49, 0.5 ,\n",
       "       0.51, 0.52, 0.53, 0.54, 0.55, 0.56, 0.57, 0.58, 0.59, 0.6 , 0.61,\n",
       "       0.62, 0.63, 0.64, 0.65, 0.66, 0.67, 0.68, 0.69, 0.7 , 0.71, 0.72,\n",
       "       0.73, 0.74, 0.75, 0.76, 0.77, 0.78, 0.79])"
      ]
     },
     "execution_count": 25,
     "metadata": {},
     "output_type": "execute_result"
    }
   ],
   "source": [
    "#i\n",
    "B = np.arange(0.4,0.8,0.01)\n",
    "B"
   ]
  },
  {
   "cell_type": "code",
   "execution_count": 26,
   "id": "c03e29ad",
   "metadata": {},
   "outputs": [],
   "source": [
    "B = np.reshape(B,(8,5))"
   ]
  },
  {
   "cell_type": "code",
   "execution_count": 27,
   "id": "028c861a",
   "metadata": {},
   "outputs": [
    {
     "data": {
      "text/plain": [
       "array([[0.4 , 0.41, 0.42, 0.43, 0.44],\n",
       "       [0.45, 0.46, 0.47, 0.48, 0.49],\n",
       "       [0.5 , 0.51, 0.52, 0.53, 0.54],\n",
       "       [0.55, 0.56, 0.57, 0.58, 0.59],\n",
       "       [0.6 , 0.61, 0.62, 0.63, 0.64],\n",
       "       [0.65, 0.66, 0.67, 0.68, 0.69],\n",
       "       [0.7 , 0.71, 0.72, 0.73, 0.74],\n",
       "       [0.75, 0.76, 0.77, 0.78, 0.79]])"
      ]
     },
     "execution_count": 27,
     "metadata": {},
     "output_type": "execute_result"
    }
   ],
   "source": [
    "B"
   ]
  },
  {
   "cell_type": "code",
   "execution_count": 29,
   "id": "2a3d9f80",
   "metadata": {},
   "outputs": [
    {
     "data": {
      "text/plain": [
       "array([[  1,   9,  17,  25, -99,  41,  49,  57],\n",
       "       [  2,  10,  18,  26, -99,  42,  50,  58],\n",
       "       [-99,  11,  19,  27, -99, -99,  51,  59],\n",
       "       [  4,  12,  20,  28, -99,  44,  52,  60],\n",
       "       [  5, -99,  21,  29, -99,  45, -99,  61],\n",
       "       [  6,  14,  22, -99, -99,  46,  54,  62],\n",
       "       [  7,  15, -99, -99, -99,  47,  55, -99],\n",
       "       [  8,  16,  24, -99,  40,  48,  56,  64]])"
      ]
     },
     "execution_count": 29,
     "metadata": {},
     "output_type": "execute_result"
    }
   ],
   "source": [
    "#ii\n",
    "beta"
   ]
  },
  {
   "cell_type": "code",
   "execution_count": 65,
   "id": "5c54b916",
   "metadata": {},
   "outputs": [],
   "source": [
    "Bbeta = np.append(B,beta,axis=1)\n"
   ]
  },
  {
   "cell_type": "code",
   "execution_count": 104,
   "id": "dad5bee8",
   "metadata": {},
   "outputs": [
    {
     "data": {
      "text/plain": [
       "(8, 13)"
      ]
     },
     "execution_count": 104,
     "metadata": {},
     "output_type": "execute_result"
    }
   ],
   "source": [
    "np.shape(Bbeta)"
   ]
  },
  {
   "cell_type": "code",
   "execution_count": 105,
   "id": "fb94b924",
   "metadata": {},
   "outputs": [
    {
     "data": {
      "text/plain": [
       "array([[  0.4 ,   0.41,   0.42,   0.43,   0.44,   1.  ,   9.  ,  17.  ,\n",
       "         25.  , -99.  ,  41.  ,  49.  ,  57.  ],\n",
       "       [  0.45,   0.46,   0.47,   0.48,   0.49,   2.  ,  10.  ,  18.  ,\n",
       "         26.  , -99.  ,  42.  ,  50.  ,  58.  ],\n",
       "       [  0.5 ,   0.51,   0.52,   0.53,   0.54, -99.  ,  11.  ,  19.  ,\n",
       "         27.  , -99.  , -99.  ,  51.  ,  59.  ],\n",
       "       [  0.55,   0.56,   0.57,   0.58,   0.59,   4.  ,  12.  ,  20.  ,\n",
       "         28.  , -99.  ,  44.  ,  52.  ,  60.  ],\n",
       "       [  0.6 ,   0.61,   0.62,   0.63,   0.64,   5.  , -99.  ,  21.  ,\n",
       "         29.  , -99.  ,  45.  , -99.  ,  61.  ],\n",
       "       [  0.65,   0.66,   0.67,   0.68,   0.69,   6.  ,  14.  ,  22.  ,\n",
       "        -99.  , -99.  ,  46.  ,  54.  ,  62.  ],\n",
       "       [  0.7 ,   0.71,   0.72,   0.73,   0.74,   7.  ,  15.  , -99.  ,\n",
       "        -99.  , -99.  ,  47.  ,  55.  , -99.  ],\n",
       "       [  0.75,   0.76,   0.77,   0.78,   0.79,   8.  ,  16.  ,  24.  ,\n",
       "        -99.  ,  40.  ,  48.  ,  56.  ,  64.  ]])"
      ]
     },
     "execution_count": 105,
     "metadata": {},
     "output_type": "execute_result"
    }
   ],
   "source": [
    "Bbeta"
   ]
  },
  {
   "cell_type": "code",
   "execution_count": 112,
   "id": "20523b09",
   "metadata": {},
   "outputs": [],
   "source": [
    "#iii Agregar una linea al final con el promedio de cada columna\n",
    "Omicron = np.array([])\n",
    "for i in range(13):\n",
    "    omicron = np.mean(Bbeta[:,i])\n",
    "    Omicron = np.append(Omicron,omicron)\n"
   ]
  },
  {
   "cell_type": "code",
   "execution_count": null,
   "id": "e692e1b4",
   "metadata": {},
   "outputs": [],
   "source": []
  },
  {
   "cell_type": "code",
   "execution_count": 113,
   "id": "368d2cb8",
   "metadata": {},
   "outputs": [
    {
     "data": {
      "text/plain": [
       "array([  0.575,   0.585,   0.595,   0.605,   0.615,  -8.25 ,  -1.5  ,\n",
       "         5.25 , -20.25 , -81.625,  26.75 ,  33.5  ,  40.25 ])"
      ]
     },
     "execution_count": 113,
     "metadata": {},
     "output_type": "execute_result"
    }
   ],
   "source": [
    "Omicron"
   ]
  },
  {
   "cell_type": "code",
   "execution_count": 116,
   "id": "f3da3756",
   "metadata": {},
   "outputs": [],
   "source": [
    "Bbeta2=np.vstack([Bbeta,Omicron])"
   ]
  },
  {
   "cell_type": "code",
   "execution_count": 117,
   "id": "7ebacdcf",
   "metadata": {},
   "outputs": [
    {
     "data": {
      "text/plain": [
       "array([[  0.4  ,   0.41 ,   0.42 ,   0.43 ,   0.44 ,   1.   ,   9.   ,\n",
       "         17.   ,  25.   , -99.   ,  41.   ,  49.   ,  57.   ],\n",
       "       [  0.45 ,   0.46 ,   0.47 ,   0.48 ,   0.49 ,   2.   ,  10.   ,\n",
       "         18.   ,  26.   , -99.   ,  42.   ,  50.   ,  58.   ],\n",
       "       [  0.5  ,   0.51 ,   0.52 ,   0.53 ,   0.54 , -99.   ,  11.   ,\n",
       "         19.   ,  27.   , -99.   , -99.   ,  51.   ,  59.   ],\n",
       "       [  0.55 ,   0.56 ,   0.57 ,   0.58 ,   0.59 ,   4.   ,  12.   ,\n",
       "         20.   ,  28.   , -99.   ,  44.   ,  52.   ,  60.   ],\n",
       "       [  0.6  ,   0.61 ,   0.62 ,   0.63 ,   0.64 ,   5.   , -99.   ,\n",
       "         21.   ,  29.   , -99.   ,  45.   , -99.   ,  61.   ],\n",
       "       [  0.65 ,   0.66 ,   0.67 ,   0.68 ,   0.69 ,   6.   ,  14.   ,\n",
       "         22.   , -99.   , -99.   ,  46.   ,  54.   ,  62.   ],\n",
       "       [  0.7  ,   0.71 ,   0.72 ,   0.73 ,   0.74 ,   7.   ,  15.   ,\n",
       "        -99.   , -99.   , -99.   ,  47.   ,  55.   , -99.   ],\n",
       "       [  0.75 ,   0.76 ,   0.77 ,   0.78 ,   0.79 ,   8.   ,  16.   ,\n",
       "         24.   , -99.   ,  40.   ,  48.   ,  56.   ,  64.   ],\n",
       "       [  0.575,   0.585,   0.595,   0.605,   0.615,  -8.25 ,  -1.5  ,\n",
       "          5.25 , -20.25 , -81.625,  26.75 ,  33.5  ,  40.25 ]])"
      ]
     },
     "execution_count": 117,
     "metadata": {},
     "output_type": "execute_result"
    }
   ],
   "source": [
    "Bbeta2"
   ]
  },
  {
   "cell_type": "code",
   "execution_count": 133,
   "id": "f544d924",
   "metadata": {},
   "outputs": [],
   "source": [
    "Sigma = np.array([])\n",
    "for i in range(9):\n",
    "    maxcow = max(Bbeta2[i,:])\n",
    "    Sigma= np.append(Sigma,maxcow)"
   ]
  },
  {
   "cell_type": "code",
   "execution_count": 134,
   "id": "83a9dbb9",
   "metadata": {},
   "outputs": [
    {
     "data": {
      "text/plain": [
       "array([57.  , 58.  , 59.  , 60.  , 61.  , 62.  , 55.  , 64.  , 40.25])"
      ]
     },
     "execution_count": 134,
     "metadata": {},
     "output_type": "execute_result"
    }
   ],
   "source": [
    "Sigma.transpose()"
   ]
  },
  {
   "cell_type": "code",
   "execution_count": null,
   "id": "87688440",
   "metadata": {},
   "outputs": [],
   "source": []
  },
  {
   "cell_type": "code",
   "execution_count": 136,
   "id": "7a78a872",
   "metadata": {},
   "outputs": [],
   "source": [
    "Bbeta3 = np.append(Bbeta2, np.array([Sigma]).transpose(),axis=1)"
   ]
  },
  {
   "cell_type": "code",
   "execution_count": 137,
   "id": "c2ffee62",
   "metadata": {},
   "outputs": [
    {
     "data": {
      "text/plain": [
       "array([[  0.4  ,   0.41 ,   0.42 ,   0.43 ,   0.44 ,   1.   ,   9.   ,\n",
       "         17.   ,  25.   , -99.   ,  41.   ,  49.   ,  57.   ,  57.   ],\n",
       "       [  0.45 ,   0.46 ,   0.47 ,   0.48 ,   0.49 ,   2.   ,  10.   ,\n",
       "         18.   ,  26.   , -99.   ,  42.   ,  50.   ,  58.   ,  58.   ],\n",
       "       [  0.5  ,   0.51 ,   0.52 ,   0.53 ,   0.54 , -99.   ,  11.   ,\n",
       "         19.   ,  27.   , -99.   , -99.   ,  51.   ,  59.   ,  59.   ],\n",
       "       [  0.55 ,   0.56 ,   0.57 ,   0.58 ,   0.59 ,   4.   ,  12.   ,\n",
       "         20.   ,  28.   , -99.   ,  44.   ,  52.   ,  60.   ,  60.   ],\n",
       "       [  0.6  ,   0.61 ,   0.62 ,   0.63 ,   0.64 ,   5.   , -99.   ,\n",
       "         21.   ,  29.   , -99.   ,  45.   , -99.   ,  61.   ,  61.   ],\n",
       "       [  0.65 ,   0.66 ,   0.67 ,   0.68 ,   0.69 ,   6.   ,  14.   ,\n",
       "         22.   , -99.   , -99.   ,  46.   ,  54.   ,  62.   ,  62.   ],\n",
       "       [  0.7  ,   0.71 ,   0.72 ,   0.73 ,   0.74 ,   7.   ,  15.   ,\n",
       "        -99.   , -99.   , -99.   ,  47.   ,  55.   , -99.   ,  55.   ],\n",
       "       [  0.75 ,   0.76 ,   0.77 ,   0.78 ,   0.79 ,   8.   ,  16.   ,\n",
       "         24.   , -99.   ,  40.   ,  48.   ,  56.   ,  64.   ,  64.   ],\n",
       "       [  0.575,   0.585,   0.595,   0.605,   0.615,  -8.25 ,  -1.5  ,\n",
       "          5.25 , -20.25 , -81.625,  26.75 ,  33.5  ,  40.25 ,  40.25 ]])"
      ]
     },
     "execution_count": 137,
     "metadata": {},
     "output_type": "execute_result"
    }
   ],
   "source": [
    "Bbeta3"
   ]
  },
  {
   "cell_type": "code",
   "execution_count": 138,
   "id": "82768e64",
   "metadata": {},
   "outputs": [],
   "source": [
    "np.savetxt('datos.tsv', Bbeta3, delimiter='\\t', fmt='%.3f')"
   ]
  },
  {
   "cell_type": "code",
   "execution_count": null,
   "id": "79060dc6",
   "metadata": {},
   "outputs": [],
   "source": []
  },
  {
   "cell_type": "code",
   "execution_count": null,
   "id": "cc1fbcdd",
   "metadata": {},
   "outputs": [],
   "source": []
  }
 ],
 "metadata": {
  "kernelspec": {
   "display_name": "Python 3 (ipykernel)",
   "language": "python",
   "name": "python3"
  },
  "language_info": {
   "codemirror_mode": {
    "name": "ipython",
    "version": 3
   },
   "file_extension": ".py",
   "mimetype": "text/x-python",
   "name": "python",
   "nbconvert_exporter": "python",
   "pygments_lexer": "ipython3",
   "version": "3.9.12"
  }
 },
 "nbformat": 4,
 "nbformat_minor": 5
}
