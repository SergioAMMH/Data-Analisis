{
 "cells": [
  {
   "cell_type": "markdown",
   "id": "9a57ae97",
   "metadata": {},
   "source": [
    "# Tema 1. Conceptos Basicos de Python."
   ]
  },
  {
   "cell_type": "code",
   "execution_count": null,
   "id": "5db74044",
   "metadata": {},
   "outputs": [],
   "source": []
  },
  {
   "cell_type": "markdown",
   "id": "58c6b311",
   "metadata": {},
   "source": [
    "# Tema 2. Numpy"
   ]
  },
  {
   "cell_type": "markdown",
   "id": "e6c2dd35",
   "metadata": {},
   "source": []
  }
 ],
 "metadata": {
  "kernelspec": {
   "display_name": "Python 3 (ipykernel)",
   "language": "python",
   "name": "python3"
  },
  "language_info": {
   "codemirror_mode": {
    "name": "ipython",
    "version": 3
   },
   "file_extension": ".py",
   "mimetype": "text/x-python",
   "name": "python",
   "nbconvert_exporter": "python",
   "pygments_lexer": "ipython3",
   "version": "3.9.12"
  }
 },
 "nbformat": 4,
 "nbformat_minor": 5
}
