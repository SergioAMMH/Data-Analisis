{
 "cells": [
  {
   "cell_type": "code",
   "execution_count": 1,
   "id": "a471cf1a",
   "metadata": {},
   "outputs": [],
   "source": [
    "import requests"
   ]
  },
  {
   "cell_type": "code",
   "execution_count": 2,
   "id": "2339da85",
   "metadata": {},
   "outputs": [],
   "source": [
    "import pandas as pd"
   ]
  },
  {
   "cell_type": "code",
   "execution_count": 5,
   "id": "45609400",
   "metadata": {},
   "outputs": [
    {
     "data": {
      "text/plain": [
       "200"
      ]
     },
     "execution_count": 5,
     "metadata": {},
     "output_type": "execute_result"
    }
   ],
   "source": [
    "r = requests.get('https://api.github.com/events')\n",
    "r.status_code"
   ]
  },
  {
   "cell_type": "code",
   "execution_count": 6,
   "id": "74ecee4f",
   "metadata": {},
   "outputs": [],
   "source": [
    "r = requests.get('https://api.nasa.gov/neo/rest/v1/neo/browse/?api_key=DEMO_KEY')"
   ]
  },
  {
   "cell_type": "code",
   "execution_count": 7,
   "id": "5d0443c4",
   "metadata": {},
   "outputs": [
    {
     "data": {
      "text/plain": [
       "200"
      ]
     },
     "execution_count": 7,
     "metadata": {},
     "output_type": "execute_result"
    }
   ],
   "source": [
    "r.status_code"
   ]
  },
  {
   "cell_type": "code",
   "execution_count": 8,
   "id": "b0010c05",
   "metadata": {},
   "outputs": [],
   "source": [
    "r = requests.get('https://api.nasa.gov/neo/rest/v1/neo/browse/')"
   ]
  },
  {
   "cell_type": "code",
   "execution_count": 9,
   "id": "98a98844",
   "metadata": {},
   "outputs": [
    {
     "data": {
      "text/plain": [
       "403"
      ]
     },
     "execution_count": 9,
     "metadata": {},
     "output_type": "execute_result"
    }
   ],
   "source": [
    "\n",
    "r.status_code"
   ]
  },
  {
   "cell_type": "code",
   "execution_count": 10,
   "id": "6093263e",
   "metadata": {},
   "outputs": [
    {
     "data": {
      "text/plain": [
       "200"
      ]
     },
     "execution_count": 10,
     "metadata": {},
     "output_type": "execute_result"
    }
   ],
   "source": [
    "url = \"https://api.nasa.gov/neo/rest/v1/neo/browse/\"\n",
    "mi_key = {'api_key': '4Qw6dtCAkjZa9G4zCnYDZeg0UjECBMcptxCHnJQt'}\n",
    "\n",
    "response = requests.get(url, params=mi_key)\n",
    "\n",
    "response.status_code"
   ]
  },
  {
   "cell_type": "code",
   "execution_count": 11,
   "id": "77d5c144",
   "metadata": {},
   "outputs": [
    {
     "data": {
      "text/plain": [
       "200"
      ]
     },
     "execution_count": 11,
     "metadata": {},
     "output_type": "execute_result"
    }
   ],
   "source": [
    "\n",
    "url = \"https://api.nasa.gov/neo/rest/v1/neo/browse/\"\n",
    "mis_params = {'api_key': '4Qw6dtCAkjZa9G4zCnYDZeg0UjECBMcptxCHnJQt',\n",
    "             'start_date': '2023-04-01',\n",
    "             'end_date': '2023-04-30'}\n",
    "\n",
    "r2 = requests.get(url, params = mis_params)\n",
    "\n",
    "r2.status_code"
   ]
  },
  {
   "cell_type": "code",
   "execution_count": 12,
   "id": "a2f72578",
   "metadata": {},
   "outputs": [],
   "source": [
    "dict_data = r2.json()"
   ]
  },
  {
   "cell_type": "code",
   "execution_count": 13,
   "id": "1709e01b",
   "metadata": {},
   "outputs": [
    {
     "data": {
      "text/plain": [
       "dict_keys(['links', 'page', 'near_earth_objects'])"
      ]
     },
     "execution_count": 13,
     "metadata": {},
     "output_type": "execute_result"
    }
   ],
   "source": [
    "dict_data.keys()"
   ]
  },
  {
   "cell_type": "code",
   "execution_count": 14,
   "id": "f738f155",
   "metadata": {},
   "outputs": [],
   "source": [
    "data = dict_data['near_earth_objects']"
   ]
  },
  {
   "cell_type": "code",
   "execution_count": 15,
   "id": "ff2316d8",
   "metadata": {},
   "outputs": [
    {
     "data": {
      "text/html": [
       "<div>\n",
       "<style scoped>\n",
       "    .dataframe tbody tr th:only-of-type {\n",
       "        vertical-align: middle;\n",
       "    }\n",
       "\n",
       "    .dataframe tbody tr th {\n",
       "        vertical-align: top;\n",
       "    }\n",
       "\n",
       "    .dataframe thead th {\n",
       "        text-align: right;\n",
       "    }\n",
       "</style>\n",
       "<table border=\"1\" class=\"dataframe\">\n",
       "  <thead>\n",
       "    <tr style=\"text-align: right;\">\n",
       "      <th></th>\n",
       "      <th>id</th>\n",
       "      <th>neo_reference_id</th>\n",
       "      <th>name</th>\n",
       "      <th>name_limited</th>\n",
       "      <th>designation</th>\n",
       "      <th>nasa_jpl_url</th>\n",
       "      <th>absolute_magnitude_h</th>\n",
       "      <th>is_potentially_hazardous_asteroid</th>\n",
       "      <th>close_approach_data</th>\n",
       "      <th>is_sentry_object</th>\n",
       "      <th>...</th>\n",
       "      <th>orbital_data.perihelion_distance</th>\n",
       "      <th>orbital_data.perihelion_argument</th>\n",
       "      <th>orbital_data.aphelion_distance</th>\n",
       "      <th>orbital_data.perihelion_time</th>\n",
       "      <th>orbital_data.mean_anomaly</th>\n",
       "      <th>orbital_data.mean_motion</th>\n",
       "      <th>orbital_data.equinox</th>\n",
       "      <th>orbital_data.orbit_class.orbit_class_type</th>\n",
       "      <th>orbital_data.orbit_class.orbit_class_description</th>\n",
       "      <th>orbital_data.orbit_class.orbit_class_range</th>\n",
       "    </tr>\n",
       "  </thead>\n",
       "  <tbody>\n",
       "    <tr>\n",
       "      <th>0</th>\n",
       "      <td>2000433</td>\n",
       "      <td>2000433</td>\n",
       "      <td>433 Eros (A898 PA)</td>\n",
       "      <td>Eros</td>\n",
       "      <td>433</td>\n",
       "      <td>http://ssd.jpl.nasa.gov/sbdb.cgi?sstr=2000433</td>\n",
       "      <td>10.31</td>\n",
       "      <td>False</td>\n",
       "      <td>[{'close_approach_date': '1900-12-27', 'close_...</td>\n",
       "      <td>False</td>\n",
       "      <td>...</td>\n",
       "      <td>1.133284372081002</td>\n",
       "      <td>178.9269951795186</td>\n",
       "      <td>1.782973900121676</td>\n",
       "      <td>2459802.601698595905</td>\n",
       "      <td>110.7776526746434</td>\n",
       "      <td>.5597706088868498</td>\n",
       "      <td>J2000</td>\n",
       "      <td>AMO</td>\n",
       "      <td>Near-Earth asteroid orbits similar to that of ...</td>\n",
       "      <td>1.017 AU &lt; q (perihelion) &lt; 1.3 AU</td>\n",
       "    </tr>\n",
       "    <tr>\n",
       "      <th>1</th>\n",
       "      <td>2000719</td>\n",
       "      <td>2000719</td>\n",
       "      <td>719 Albert (A911 TB)</td>\n",
       "      <td>Albert</td>\n",
       "      <td>719</td>\n",
       "      <td>http://ssd.jpl.nasa.gov/sbdb.cgi?sstr=2000719</td>\n",
       "      <td>15.59</td>\n",
       "      <td>False</td>\n",
       "      <td>[{'close_approach_date': '1909-08-21', 'close_...</td>\n",
       "      <td>False</td>\n",
       "      <td>...</td>\n",
       "      <td>1.194521858788897</td>\n",
       "      <td>156.2503681890173</td>\n",
       "      <td>4.079828796226027</td>\n",
       "      <td>2459956.023234763085</td>\n",
       "      <td>10.23596428095426</td>\n",
       "      <td>.2301418330768929</td>\n",
       "      <td>J2000</td>\n",
       "      <td>AMO</td>\n",
       "      <td>Near-Earth asteroid orbits similar to that of ...</td>\n",
       "      <td>1.017 AU &lt; q (perihelion) &lt; 1.3 AU</td>\n",
       "    </tr>\n",
       "    <tr>\n",
       "      <th>2</th>\n",
       "      <td>2000887</td>\n",
       "      <td>2000887</td>\n",
       "      <td>887 Alinda (A918 AA)</td>\n",
       "      <td>Alinda</td>\n",
       "      <td>887</td>\n",
       "      <td>http://ssd.jpl.nasa.gov/sbdb.cgi?sstr=2000887</td>\n",
       "      <td>13.83</td>\n",
       "      <td>False</td>\n",
       "      <td>[{'close_approach_date': '1910-01-04', 'close_...</td>\n",
       "      <td>False</td>\n",
       "      <td>...</td>\n",
       "      <td>1.061321201278226</td>\n",
       "      <td>350.4750169387657</td>\n",
       "      <td>3.883609286075629</td>\n",
       "      <td>2460678.792844248905</td>\n",
       "      <td>188.0405622650862</td>\n",
       "      <td>.2535179888641312</td>\n",
       "      <td>J2000</td>\n",
       "      <td>AMO</td>\n",
       "      <td>Near-Earth asteroid orbits similar to that of ...</td>\n",
       "      <td>1.017 AU &lt; q (perihelion) &lt; 1.3 AU</td>\n",
       "    </tr>\n",
       "  </tbody>\n",
       "</table>\n",
       "<p>3 rows × 44 columns</p>\n",
       "</div>"
      ],
      "text/plain": [
       "        id neo_reference_id                  name name_limited designation  \\\n",
       "0  2000433          2000433    433 Eros (A898 PA)         Eros         433   \n",
       "1  2000719          2000719  719 Albert (A911 TB)       Albert         719   \n",
       "2  2000887          2000887  887 Alinda (A918 AA)       Alinda         887   \n",
       "\n",
       "                                    nasa_jpl_url  absolute_magnitude_h  \\\n",
       "0  http://ssd.jpl.nasa.gov/sbdb.cgi?sstr=2000433                 10.31   \n",
       "1  http://ssd.jpl.nasa.gov/sbdb.cgi?sstr=2000719                 15.59   \n",
       "2  http://ssd.jpl.nasa.gov/sbdb.cgi?sstr=2000887                 13.83   \n",
       "\n",
       "   is_potentially_hazardous_asteroid  \\\n",
       "0                              False   \n",
       "1                              False   \n",
       "2                              False   \n",
       "\n",
       "                                 close_approach_data  is_sentry_object  ...  \\\n",
       "0  [{'close_approach_date': '1900-12-27', 'close_...             False  ...   \n",
       "1  [{'close_approach_date': '1909-08-21', 'close_...             False  ...   \n",
       "2  [{'close_approach_date': '1910-01-04', 'close_...             False  ...   \n",
       "\n",
       "  orbital_data.perihelion_distance  orbital_data.perihelion_argument  \\\n",
       "0                1.133284372081002                 178.9269951795186   \n",
       "1                1.194521858788897                 156.2503681890173   \n",
       "2                1.061321201278226                 350.4750169387657   \n",
       "\n",
       "   orbital_data.aphelion_distance  orbital_data.perihelion_time  \\\n",
       "0               1.782973900121676          2459802.601698595905   \n",
       "1               4.079828796226027          2459956.023234763085   \n",
       "2               3.883609286075629          2460678.792844248905   \n",
       "\n",
       "   orbital_data.mean_anomaly  orbital_data.mean_motion  orbital_data.equinox  \\\n",
       "0          110.7776526746434         .5597706088868498                 J2000   \n",
       "1          10.23596428095426         .2301418330768929                 J2000   \n",
       "2          188.0405622650862         .2535179888641312                 J2000   \n",
       "\n",
       "   orbital_data.orbit_class.orbit_class_type  \\\n",
       "0                                        AMO   \n",
       "1                                        AMO   \n",
       "2                                        AMO   \n",
       "\n",
       "    orbital_data.orbit_class.orbit_class_description  \\\n",
       "0  Near-Earth asteroid orbits similar to that of ...   \n",
       "1  Near-Earth asteroid orbits similar to that of ...   \n",
       "2  Near-Earth asteroid orbits similar to that of ...   \n",
       "\n",
       "  orbital_data.orbit_class.orbit_class_range  \n",
       "0         1.017 AU < q (perihelion) < 1.3 AU  \n",
       "1         1.017 AU < q (perihelion) < 1.3 AU  \n",
       "2         1.017 AU < q (perihelion) < 1.3 AU  \n",
       "\n",
       "[3 rows x 44 columns]"
      ]
     },
     "execution_count": 15,
     "metadata": {},
     "output_type": "execute_result"
    }
   ],
   "source": [
    "df = pd.json_normalize(data)\n",
    "df.head(3)"
   ]
  },
  {
   "cell_type": "code",
   "execution_count": 17,
   "id": "2cfc3dd8",
   "metadata": {},
   "outputs": [
    {
     "data": {
      "text/html": [
       "<div>\n",
       "<style scoped>\n",
       "    .dataframe tbody tr th:only-of-type {\n",
       "        vertical-align: middle;\n",
       "    }\n",
       "\n",
       "    .dataframe tbody tr th {\n",
       "        vertical-align: top;\n",
       "    }\n",
       "\n",
       "    .dataframe thead th {\n",
       "        text-align: right;\n",
       "    }\n",
       "</style>\n",
       "<table border=\"1\" class=\"dataframe\">\n",
       "  <thead>\n",
       "    <tr style=\"text-align: right;\">\n",
       "      <th></th>\n",
       "      <th>id</th>\n",
       "      <th>neo_reference_id</th>\n",
       "      <th>name</th>\n",
       "      <th>name_limited</th>\n",
       "      <th>designation</th>\n",
       "      <th>nasa_jpl_url</th>\n",
       "      <th>absolute_magnitude_h</th>\n",
       "      <th>is_potentially_hazardous_asteroid</th>\n",
       "      <th>close_approach_data</th>\n",
       "      <th>is_sentry_object</th>\n",
       "      <th>...</th>\n",
       "      <th>orbital_data.perihelion_distance</th>\n",
       "      <th>orbital_data.perihelion_argument</th>\n",
       "      <th>orbital_data.aphelion_distance</th>\n",
       "      <th>orbital_data.perihelion_time</th>\n",
       "      <th>orbital_data.mean_anomaly</th>\n",
       "      <th>orbital_data.mean_motion</th>\n",
       "      <th>orbital_data.equinox</th>\n",
       "      <th>orbital_data.orbit_class.orbit_class_type</th>\n",
       "      <th>orbital_data.orbit_class.orbit_class_description</th>\n",
       "      <th>orbital_data.orbit_class.orbit_class_range</th>\n",
       "    </tr>\n",
       "  </thead>\n",
       "  <tbody>\n",
       "    <tr>\n",
       "      <th>0</th>\n",
       "      <td>2000433</td>\n",
       "      <td>2000433</td>\n",
       "      <td>433 Eros (A898 PA)</td>\n",
       "      <td>Eros</td>\n",
       "      <td>433</td>\n",
       "      <td>http://ssd.jpl.nasa.gov/sbdb.cgi?sstr=2000433</td>\n",
       "      <td>10.31</td>\n",
       "      <td>False</td>\n",
       "      <td>[{'close_approach_date': '1900-12-27', 'close_...</td>\n",
       "      <td>False</td>\n",
       "      <td>...</td>\n",
       "      <td>1.133284372081002</td>\n",
       "      <td>178.9269951795186</td>\n",
       "      <td>1.782973900121676</td>\n",
       "      <td>2459802.601698595905</td>\n",
       "      <td>110.7776526746434</td>\n",
       "      <td>.5597706088868498</td>\n",
       "      <td>J2000</td>\n",
       "      <td>AMO</td>\n",
       "      <td>Near-Earth asteroid orbits similar to that of ...</td>\n",
       "      <td>1.017 AU &lt; q (perihelion) &lt; 1.3 AU</td>\n",
       "    </tr>\n",
       "    <tr>\n",
       "      <th>1</th>\n",
       "      <td>2000719</td>\n",
       "      <td>2000719</td>\n",
       "      <td>719 Albert (A911 TB)</td>\n",
       "      <td>Albert</td>\n",
       "      <td>719</td>\n",
       "      <td>http://ssd.jpl.nasa.gov/sbdb.cgi?sstr=2000719</td>\n",
       "      <td>15.59</td>\n",
       "      <td>False</td>\n",
       "      <td>[{'close_approach_date': '1909-08-21', 'close_...</td>\n",
       "      <td>False</td>\n",
       "      <td>...</td>\n",
       "      <td>1.194521858788897</td>\n",
       "      <td>156.2503681890173</td>\n",
       "      <td>4.079828796226027</td>\n",
       "      <td>2459956.023234763085</td>\n",
       "      <td>10.23596428095426</td>\n",
       "      <td>.2301418330768929</td>\n",
       "      <td>J2000</td>\n",
       "      <td>AMO</td>\n",
       "      <td>Near-Earth asteroid orbits similar to that of ...</td>\n",
       "      <td>1.017 AU &lt; q (perihelion) &lt; 1.3 AU</td>\n",
       "    </tr>\n",
       "    <tr>\n",
       "      <th>2</th>\n",
       "      <td>2000887</td>\n",
       "      <td>2000887</td>\n",
       "      <td>887 Alinda (A918 AA)</td>\n",
       "      <td>Alinda</td>\n",
       "      <td>887</td>\n",
       "      <td>http://ssd.jpl.nasa.gov/sbdb.cgi?sstr=2000887</td>\n",
       "      <td>13.83</td>\n",
       "      <td>False</td>\n",
       "      <td>[{'close_approach_date': '1910-01-04', 'close_...</td>\n",
       "      <td>False</td>\n",
       "      <td>...</td>\n",
       "      <td>1.061321201278226</td>\n",
       "      <td>350.4750169387657</td>\n",
       "      <td>3.883609286075629</td>\n",
       "      <td>2460678.792844248905</td>\n",
       "      <td>188.0405622650862</td>\n",
       "      <td>.2535179888641312</td>\n",
       "      <td>J2000</td>\n",
       "      <td>AMO</td>\n",
       "      <td>Near-Earth asteroid orbits similar to that of ...</td>\n",
       "      <td>1.017 AU &lt; q (perihelion) &lt; 1.3 AU</td>\n",
       "    </tr>\n",
       "  </tbody>\n",
       "</table>\n",
       "<p>3 rows × 44 columns</p>\n",
       "</div>"
      ],
      "text/plain": [
       "        id neo_reference_id                  name name_limited designation  \\\n",
       "0  2000433          2000433    433 Eros (A898 PA)         Eros         433   \n",
       "1  2000719          2000719  719 Albert (A911 TB)       Albert         719   \n",
       "2  2000887          2000887  887 Alinda (A918 AA)       Alinda         887   \n",
       "\n",
       "                                    nasa_jpl_url  absolute_magnitude_h  \\\n",
       "0  http://ssd.jpl.nasa.gov/sbdb.cgi?sstr=2000433                 10.31   \n",
       "1  http://ssd.jpl.nasa.gov/sbdb.cgi?sstr=2000719                 15.59   \n",
       "2  http://ssd.jpl.nasa.gov/sbdb.cgi?sstr=2000887                 13.83   \n",
       "\n",
       "   is_potentially_hazardous_asteroid  \\\n",
       "0                              False   \n",
       "1                              False   \n",
       "2                              False   \n",
       "\n",
       "                                 close_approach_data  is_sentry_object  ...  \\\n",
       "0  [{'close_approach_date': '1900-12-27', 'close_...             False  ...   \n",
       "1  [{'close_approach_date': '1909-08-21', 'close_...             False  ...   \n",
       "2  [{'close_approach_date': '1910-01-04', 'close_...             False  ...   \n",
       "\n",
       "  orbital_data.perihelion_distance  orbital_data.perihelion_argument  \\\n",
       "0                1.133284372081002                 178.9269951795186   \n",
       "1                1.194521858788897                 156.2503681890173   \n",
       "2                1.061321201278226                 350.4750169387657   \n",
       "\n",
       "   orbital_data.aphelion_distance  orbital_data.perihelion_time  \\\n",
       "0               1.782973900121676          2459802.601698595905   \n",
       "1               4.079828796226027          2459956.023234763085   \n",
       "2               3.883609286075629          2460678.792844248905   \n",
       "\n",
       "   orbital_data.mean_anomaly  orbital_data.mean_motion  orbital_data.equinox  \\\n",
       "0          110.7776526746434         .5597706088868498                 J2000   \n",
       "1          10.23596428095426         .2301418330768929                 J2000   \n",
       "2          188.0405622650862         .2535179888641312                 J2000   \n",
       "\n",
       "   orbital_data.orbit_class.orbit_class_type  \\\n",
       "0                                        AMO   \n",
       "1                                        AMO   \n",
       "2                                        AMO   \n",
       "\n",
       "    orbital_data.orbit_class.orbit_class_description  \\\n",
       "0  Near-Earth asteroid orbits similar to that of ...   \n",
       "1  Near-Earth asteroid orbits similar to that of ...   \n",
       "2  Near-Earth asteroid orbits similar to that of ...   \n",
       "\n",
       "  orbital_data.orbit_class.orbit_class_range  \n",
       "0         1.017 AU < q (perihelion) < 1.3 AU  \n",
       "1         1.017 AU < q (perihelion) < 1.3 AU  \n",
       "2         1.017 AU < q (perihelion) < 1.3 AU  \n",
       "\n",
       "[3 rows x 44 columns]"
      ]
     },
     "execution_count": 17,
     "metadata": {},
     "output_type": "execute_result"
    }
   ],
   "source": [
    "data2 = dict_data['page']\n",
    "df = pd.json_normalize(data)\n",
    "df.head(3)"
   ]
  }
 ],
 "metadata": {
  "kernelspec": {
   "display_name": "Python 3 (ipykernel)",
   "language": "python",
   "name": "python3"
  },
  "language_info": {
   "codemirror_mode": {
    "name": "ipython",
    "version": 3
   },
   "file_extension": ".py",
   "mimetype": "text/x-python",
   "name": "python",
   "nbconvert_exporter": "python",
   "pygments_lexer": "ipython3",
   "version": "3.9.12"
  }
 },
 "nbformat": 4,
 "nbformat_minor": 5
}
