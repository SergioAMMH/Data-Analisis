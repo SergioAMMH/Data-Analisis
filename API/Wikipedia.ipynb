{
 "cells": [
  {
   "cell_type": "code",
   "execution_count": 1,
   "id": "fdc568b1",
   "metadata": {},
   "outputs": [],
   "source": [
    "import requests\n",
    "import pandas as pd"
   ]
  },
  {
   "cell_type": "code",
   "execution_count": 3,
   "id": "6354e6a4",
   "metadata": {},
   "outputs": [
    {
     "data": {
      "text/plain": [
       "200"
      ]
     },
     "execution_count": 3,
     "metadata": {},
     "output_type": "execute_result"
    }
   ],
   "source": [
    "url = 'https://en.wikipedia.org/w/api.php?action=query&format=json&titles=Xoloitzcuintle&prop=extracts'\n",
    "\n",
    "request_wiki = requests.get(url)\n",
    "\n",
    "request_wiki.status_code\n"
   ]
  },
  {
   "cell_type": "code",
   "execution_count": 4,
   "id": "799d7ac8",
   "metadata": {},
   "outputs": [
    {
     "data": {
      "text/plain": [
       "dict_keys(['batchcomplete', 'warnings', 'query'])"
      ]
     },
     "execution_count": 4,
     "metadata": {},
     "output_type": "execute_result"
    }
   ],
   "source": [
    "request_wiki.json().keys()"
   ]
  },
  {
   "cell_type": "code",
   "execution_count": 5,
   "id": "c3c298e0",
   "metadata": {},
   "outputs": [
    {
     "data": {
      "text/plain": [
       "dict_keys(['pages'])"
      ]
     },
     "execution_count": 5,
     "metadata": {},
     "output_type": "execute_result"
    }
   ],
   "source": [
    "request_wiki.json()['query'].keys()"
   ]
  },
  {
   "cell_type": "code",
   "execution_count": 7,
   "id": "e13db8f7",
   "metadata": {},
   "outputs": [
    {
     "data": {
      "text/plain": [
       "dict_keys(['243549'])"
      ]
     },
     "execution_count": 7,
     "metadata": {},
     "output_type": "execute_result"
    }
   ],
   "source": [
    "request_wiki.json()['query']['pages'].keys()"
   ]
  },
  {
   "cell_type": "code",
   "execution_count": 8,
   "id": "3b978c6d",
   "metadata": {},
   "outputs": [
    {
     "data": {
      "text/plain": [
       "dict_keys(['pageid', 'ns', 'title', 'extract'])"
      ]
     },
     "execution_count": 8,
     "metadata": {},
     "output_type": "execute_result"
    }
   ],
   "source": [
    "request_wiki.json()['query']['pages']['243549'].keys()"
   ]
  },
  {
   "cell_type": "code",
   "execution_count": 9,
   "id": "bbe3f0db",
   "metadata": {},
   "outputs": [],
   "source": [
    "df = pd.json_normalize(request_wiki.json()['query'])"
   ]
  },
  {
   "cell_type": "code",
   "execution_count": 10,
   "id": "950f408f",
   "metadata": {},
   "outputs": [
    {
     "data": {
      "text/html": [
       "<div>\n",
       "<style scoped>\n",
       "    .dataframe tbody tr th:only-of-type {\n",
       "        vertical-align: middle;\n",
       "    }\n",
       "\n",
       "    .dataframe tbody tr th {\n",
       "        vertical-align: top;\n",
       "    }\n",
       "\n",
       "    .dataframe thead th {\n",
       "        text-align: right;\n",
       "    }\n",
       "</style>\n",
       "<table border=\"1\" class=\"dataframe\">\n",
       "  <thead>\n",
       "    <tr style=\"text-align: right;\">\n",
       "      <th></th>\n",
       "      <th>pages.243549.pageid</th>\n",
       "      <th>pages.243549.ns</th>\n",
       "      <th>pages.243549.title</th>\n",
       "      <th>pages.243549.extract</th>\n",
       "    </tr>\n",
       "  </thead>\n",
       "  <tbody>\n",
       "    <tr>\n",
       "      <th>0</th>\n",
       "      <td>243549</td>\n",
       "      <td>0</td>\n",
       "      <td>Xoloitzcuintle</td>\n",
       "      <td>&lt;p&gt;The &lt;b&gt;Xoloitzcuintle&lt;/b&gt; (or &lt;b&gt;Xoloitzqui...</td>\n",
       "    </tr>\n",
       "  </tbody>\n",
       "</table>\n",
       "</div>"
      ],
      "text/plain": [
       "   pages.243549.pageid  pages.243549.ns pages.243549.title  \\\n",
       "0               243549                0     Xoloitzcuintle   \n",
       "\n",
       "                                pages.243549.extract  \n",
       "0  <p>The <b>Xoloitzcuintle</b> (or <b>Xoloitzqui...  "
      ]
     },
     "execution_count": 10,
     "metadata": {},
     "output_type": "execute_result"
    }
   ],
   "source": [
    "df"
   ]
  },
  {
   "cell_type": "code",
   "execution_count": 11,
   "id": "216cb37d",
   "metadata": {},
   "outputs": [],
   "source": [
    "df = pd.json_normalize(request_wiki.json()['query']['pages'])"
   ]
  },
  {
   "cell_type": "code",
   "execution_count": 12,
   "id": "54f33092",
   "metadata": {},
   "outputs": [
    {
     "data": {
      "text/html": [
       "<div>\n",
       "<style scoped>\n",
       "    .dataframe tbody tr th:only-of-type {\n",
       "        vertical-align: middle;\n",
       "    }\n",
       "\n",
       "    .dataframe tbody tr th {\n",
       "        vertical-align: top;\n",
       "    }\n",
       "\n",
       "    .dataframe thead th {\n",
       "        text-align: right;\n",
       "    }\n",
       "</style>\n",
       "<table border=\"1\" class=\"dataframe\">\n",
       "  <thead>\n",
       "    <tr style=\"text-align: right;\">\n",
       "      <th></th>\n",
       "      <th>243549.pageid</th>\n",
       "      <th>243549.ns</th>\n",
       "      <th>243549.title</th>\n",
       "      <th>243549.extract</th>\n",
       "    </tr>\n",
       "  </thead>\n",
       "  <tbody>\n",
       "    <tr>\n",
       "      <th>0</th>\n",
       "      <td>243549</td>\n",
       "      <td>0</td>\n",
       "      <td>Xoloitzcuintle</td>\n",
       "      <td>&lt;p&gt;The &lt;b&gt;Xoloitzcuintle&lt;/b&gt; (or &lt;b&gt;Xoloitzqui...</td>\n",
       "    </tr>\n",
       "  </tbody>\n",
       "</table>\n",
       "</div>"
      ],
      "text/plain": [
       "   243549.pageid  243549.ns    243549.title  \\\n",
       "0         243549          0  Xoloitzcuintle   \n",
       "\n",
       "                                      243549.extract  \n",
       "0  <p>The <b>Xoloitzcuintle</b> (or <b>Xoloitzqui...  "
      ]
     },
     "execution_count": 12,
     "metadata": {},
     "output_type": "execute_result"
    }
   ],
   "source": [
    "df"
   ]
  },
  {
   "cell_type": "code",
   "execution_count": 13,
   "id": "f8921cc1",
   "metadata": {},
   "outputs": [],
   "source": [
    "df = pd.json_normalize(request_wiki.json()['query']['pages']['243549'])"
   ]
  },
  {
   "cell_type": "code",
   "execution_count": 14,
   "id": "3e9860d7",
   "metadata": {},
   "outputs": [
    {
     "data": {
      "text/html": [
       "<div>\n",
       "<style scoped>\n",
       "    .dataframe tbody tr th:only-of-type {\n",
       "        vertical-align: middle;\n",
       "    }\n",
       "\n",
       "    .dataframe tbody tr th {\n",
       "        vertical-align: top;\n",
       "    }\n",
       "\n",
       "    .dataframe thead th {\n",
       "        text-align: right;\n",
       "    }\n",
       "</style>\n",
       "<table border=\"1\" class=\"dataframe\">\n",
       "  <thead>\n",
       "    <tr style=\"text-align: right;\">\n",
       "      <th></th>\n",
       "      <th>pageid</th>\n",
       "      <th>ns</th>\n",
       "      <th>title</th>\n",
       "      <th>extract</th>\n",
       "    </tr>\n",
       "  </thead>\n",
       "  <tbody>\n",
       "    <tr>\n",
       "      <th>0</th>\n",
       "      <td>243549</td>\n",
       "      <td>0</td>\n",
       "      <td>Xoloitzcuintle</td>\n",
       "      <td>&lt;p&gt;The &lt;b&gt;Xoloitzcuintle&lt;/b&gt; (or &lt;b&gt;Xoloitzqui...</td>\n",
       "    </tr>\n",
       "  </tbody>\n",
       "</table>\n",
       "</div>"
      ],
      "text/plain": [
       "   pageid  ns           title  \\\n",
       "0  243549   0  Xoloitzcuintle   \n",
       "\n",
       "                                             extract  \n",
       "0  <p>The <b>Xoloitzcuintle</b> (or <b>Xoloitzqui...  "
      ]
     },
     "execution_count": 14,
     "metadata": {},
     "output_type": "execute_result"
    }
   ],
   "source": [
    "df"
   ]
  },
  {
   "cell_type": "code",
   "execution_count": 15,
   "id": "cb5bbd7f",
   "metadata": {},
   "outputs": [
    {
     "data": {
      "text/plain": [
       "200"
      ]
     },
     "execution_count": 15,
     "metadata": {},
     "output_type": "execute_result"
    }
   ],
   "source": [
    "buscar_titulo = 'Xoloitzcuintle'\n",
    " \n",
    "#endpoint = 'https://es.wikipedia.org/w/api.php'\n",
    "endpoint = 'https://en.wikipedia.org/w/api.php'\n",
    "\n",
    "params = {\n",
    "            'action' : 'query',\n",
    "            'format' : 'json',\n",
    "            'titles' : buscar_titulo, \n",
    "            'prop' : 'extracts'\n",
    "        }\n",
    "\n",
    "request2_wiki = requests.get(endpoint, params=params)\n",
    "\n",
    "request2_wiki.status_code"
   ]
  },
  {
   "cell_type": "markdown",
   "id": "9a9aa65c",
   "metadata": {},
   "source": [
    "# Tarea\n",
    "Extraer el resumen para una lista"
   ]
  }
 ],
 "metadata": {
  "kernelspec": {
   "display_name": "Python 3 (ipykernel)",
   "language": "python",
   "name": "python3"
  },
  "language_info": {
   "codemirror_mode": {
    "name": "ipython",
    "version": 3
   },
   "file_extension": ".py",
   "mimetype": "text/x-python",
   "name": "python",
   "nbconvert_exporter": "python",
   "pygments_lexer": "ipython3",
   "version": "3.9.12"
  }
 },
 "nbformat": 4,
 "nbformat_minor": 5
}
