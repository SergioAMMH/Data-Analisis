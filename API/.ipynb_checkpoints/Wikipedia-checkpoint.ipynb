{
 "cells": [
  {
   "cell_type": "code",
   "execution_count": 1,
   "id": "17aa9708",
   "metadata": {},
   "outputs": [],
   "source": [
    "import requests\n",
    "import pandas as pd"
   ]
  },
  {
   "cell_type": "code",
   "execution_count": 3,
   "id": "69b25c0e",
   "metadata": {},
   "outputs": [
    {
     "data": {
      "text/plain": [
       "200"
      ]
     },
     "execution_count": 3,
     "metadata": {},
     "output_type": "execute_result"
    }
   ],
   "source": [
    "url = 'https://en.wikipedia.org/w/api.php?action=query&format=json&titles=Xoloitzcuintle&prop=extracts'\n",
    "\n",
    "request_wiki = requests.get(url)\n",
    "\n",
    "request_wiki.status_code\n"
   ]
  },
  {
   "cell_type": "code",
   "execution_count": 4,
   "id": "90bd4015",
   "metadata": {},
   "outputs": [
    {
     "data": {
      "text/plain": [
       "dict_keys(['batchcomplete', 'warnings', 'query'])"
      ]
     },
     "execution_count": 4,
     "metadata": {},
     "output_type": "execute_result"
    }
   ],
   "source": [
    "request_wiki.json().keys()"
   ]
  },
  {
   "cell_type": "code",
   "execution_count": 5,
   "id": "32f37ca3",
   "metadata": {},
   "outputs": [
    {
     "data": {
      "text/plain": [
       "dict_keys(['pages'])"
      ]
     },
     "execution_count": 5,
     "metadata": {},
     "output_type": "execute_result"
    }
   ],
   "source": [
    "request_wiki.json()['query'].keys()"
   ]
  },
  {
   "cell_type": "code",
   "execution_count": 7,
   "id": "81e6256b",
   "metadata": {},
   "outputs": [
    {
     "data": {
      "text/plain": [
       "dict_keys(['243549'])"
      ]
     },
     "execution_count": 7,
     "metadata": {},
     "output_type": "execute_result"
    }
   ],
   "source": [
    "request_wiki.json()['query']['pages'].keys()"
   ]
  },
  {
   "cell_type": "code",
   "execution_count": 8,
   "id": "bda7a634",
   "metadata": {},
   "outputs": [
    {
     "data": {
      "text/plain": [
       "dict_keys(['pageid', 'ns', 'title', 'extract'])"
      ]
     },
     "execution_count": 8,
     "metadata": {},
     "output_type": "execute_result"
    }
   ],
   "source": [
    "request_wiki.json()['query']['pages']['243549'].keys()"
   ]
  },
  {
   "cell_type": "code",
   "execution_count": 9,
   "id": "30bcea81",
   "metadata": {},
   "outputs": [],
   "source": [
    "df = pd.json_normalize(request_wiki.json()['query'])"
   ]
  },
  {
   "cell_type": "code",
   "execution_count": null,
   "id": "c6cf6dea",
   "metadata": {},
   "outputs": [],
   "source": []
  },
  {
   "cell_type": "code",
   "execution_count": null,
   "id": "b65fe411",
   "metadata": {},
   "outputs": [],
   "source": [
    "df = pd.json"
   ]
  },
  {
   "cell_type": "markdown",
   "id": "57e39f61",
   "metadata": {},
   "source": [
    "# Tarea\n",
    "Extraer el resumen para una lista"
   ]
  }
 ],
 "metadata": {
  "kernelspec": {
   "display_name": "Python 3 (ipykernel)",
   "language": "python",
   "name": "python3"
  },
  "language_info": {
   "codemirror_mode": {
    "name": "ipython",
    "version": 3
   },
   "file_extension": ".py",
   "mimetype": "text/x-python",
   "name": "python",
   "nbconvert_exporter": "python",
   "pygments_lexer": "ipython3",
   "version": "3.9.12"
  }
 },
 "nbformat": 4,
 "nbformat_minor": 5
}
