{
 "cells": [
  {
   "cell_type": "code",
   "execution_count": 1,
   "id": "f034ffa3",
   "metadata": {},
   "outputs": [],
   "source": [
    "import pandas as pd \n",
    "import sqlite3"
   ]
  },
  {
   "cell_type": "markdown",
   "id": "7f5010c8",
   "metadata": {},
   "source": [
    "# Ejercicio"
   ]
  },
  {
   "cell_type": "markdown",
   "id": "78fdefd9",
   "metadata": {},
   "source": [
    "   * i) cuántos equipos diferentes hay?\n",
    "\n",
    "   * ii) cuantos jugadores con nombre Michael cumplen años en 1992?"
   ]
  },
  {
   "cell_type": "code",
   "execution_count": 2,
   "id": "0cf9adb6",
   "metadata": {},
   "outputs": [],
   "source": [
    "database = 'database.sqlite'\n",
    "conn = sqlite3.connect(database)\n",
    "\n",
    "#Averiguamos los datos que se tienen (tablas)\n",
    "tables = pd.read_sql(\"\"\" SELECT *\n",
    "                    FROM sqlite_master\n",
    "                    WHERE type= 'table';\"\"\", conn)"
   ]
  },
  {
   "cell_type": "code",
   "execution_count": 9,
   "id": "b65b8899",
   "metadata": {},
   "outputs": [
    {
     "data": {
      "text/html": [
       "<div>\n",
       "<style scoped>\n",
       "    .dataframe tbody tr th:only-of-type {\n",
       "        vertical-align: middle;\n",
       "    }\n",
       "\n",
       "    .dataframe tbody tr th {\n",
       "        vertical-align: top;\n",
       "    }\n",
       "\n",
       "    .dataframe thead th {\n",
       "        text-align: right;\n",
       "    }\n",
       "</style>\n",
       "<table border=\"1\" class=\"dataframe\">\n",
       "  <thead>\n",
       "    <tr style=\"text-align: right;\">\n",
       "      <th></th>\n",
       "      <th>id</th>\n",
       "      <th>team_api_id</th>\n",
       "      <th>team_fifa_api_id</th>\n",
       "      <th>team_long_name</th>\n",
       "      <th>team_short_name</th>\n",
       "    </tr>\n",
       "  </thead>\n",
       "  <tbody>\n",
       "    <tr>\n",
       "      <th>0</th>\n",
       "      <td>1</td>\n",
       "      <td>9987</td>\n",
       "      <td>673.0</td>\n",
       "      <td>KRC Genk</td>\n",
       "      <td>GEN</td>\n",
       "    </tr>\n",
       "    <tr>\n",
       "      <th>1</th>\n",
       "      <td>2</td>\n",
       "      <td>9993</td>\n",
       "      <td>675.0</td>\n",
       "      <td>Beerschot AC</td>\n",
       "      <td>BAC</td>\n",
       "    </tr>\n",
       "    <tr>\n",
       "      <th>2</th>\n",
       "      <td>3</td>\n",
       "      <td>10000</td>\n",
       "      <td>15005.0</td>\n",
       "      <td>SV Zulte-Waregem</td>\n",
       "      <td>ZUL</td>\n",
       "    </tr>\n",
       "    <tr>\n",
       "      <th>3</th>\n",
       "      <td>4</td>\n",
       "      <td>9994</td>\n",
       "      <td>2007.0</td>\n",
       "      <td>Sporting Lokeren</td>\n",
       "      <td>LOK</td>\n",
       "    </tr>\n",
       "    <tr>\n",
       "      <th>4</th>\n",
       "      <td>5</td>\n",
       "      <td>9984</td>\n",
       "      <td>1750.0</td>\n",
       "      <td>KSV Cercle Brugge</td>\n",
       "      <td>CEB</td>\n",
       "    </tr>\n",
       "    <tr>\n",
       "      <th>...</th>\n",
       "      <td>...</td>\n",
       "      <td>...</td>\n",
       "      <td>...</td>\n",
       "      <td>...</td>\n",
       "      <td>...</td>\n",
       "    </tr>\n",
       "    <tr>\n",
       "      <th>294</th>\n",
       "      <td>49479</td>\n",
       "      <td>10190</td>\n",
       "      <td>898.0</td>\n",
       "      <td>FC St. Gallen</td>\n",
       "      <td>GAL</td>\n",
       "    </tr>\n",
       "    <tr>\n",
       "      <th>295</th>\n",
       "      <td>49837</td>\n",
       "      <td>10191</td>\n",
       "      <td>1715.0</td>\n",
       "      <td>FC Thun</td>\n",
       "      <td>THU</td>\n",
       "    </tr>\n",
       "    <tr>\n",
       "      <th>296</th>\n",
       "      <td>50201</td>\n",
       "      <td>9777</td>\n",
       "      <td>324.0</td>\n",
       "      <td>Servette FC</td>\n",
       "      <td>SER</td>\n",
       "    </tr>\n",
       "    <tr>\n",
       "      <th>297</th>\n",
       "      <td>50204</td>\n",
       "      <td>7730</td>\n",
       "      <td>1862.0</td>\n",
       "      <td>FC Lausanne-Sports</td>\n",
       "      <td>LAU</td>\n",
       "    </tr>\n",
       "    <tr>\n",
       "      <th>298</th>\n",
       "      <td>51606</td>\n",
       "      <td>7896</td>\n",
       "      <td>NaN</td>\n",
       "      <td>Lugano</td>\n",
       "      <td>LUG</td>\n",
       "    </tr>\n",
       "  </tbody>\n",
       "</table>\n",
       "<p>299 rows × 5 columns</p>\n",
       "</div>"
      ],
      "text/plain": [
       "        id  team_api_id  team_fifa_api_id      team_long_name team_short_name\n",
       "0        1         9987             673.0            KRC Genk             GEN\n",
       "1        2         9993             675.0        Beerschot AC             BAC\n",
       "2        3        10000           15005.0    SV Zulte-Waregem             ZUL\n",
       "3        4         9994            2007.0    Sporting Lokeren             LOK\n",
       "4        5         9984            1750.0   KSV Cercle Brugge             CEB\n",
       "..     ...          ...               ...                 ...             ...\n",
       "294  49479        10190             898.0       FC St. Gallen             GAL\n",
       "295  49837        10191            1715.0             FC Thun             THU\n",
       "296  50201         9777             324.0         Servette FC             SER\n",
       "297  50204         7730            1862.0  FC Lausanne-Sports             LAU\n",
       "298  51606         7896               NaN              Lugano             LUG\n",
       "\n",
       "[299 rows x 5 columns]"
      ]
     },
     "execution_count": 9,
     "metadata": {},
     "output_type": "execute_result"
    }
   ],
   "source": [
    "a = pd.read_sql(\"\"\"SELECT * \n",
    "                FROM Team;\"\"\",conn)\n",
    "a"
   ]
  },
  {
   "cell_type": "code",
   "execution_count": 14,
   "id": "08e779ec",
   "metadata": {},
   "outputs": [
    {
     "data": {
      "text/html": [
       "<div>\n",
       "<style scoped>\n",
       "    .dataframe tbody tr th:only-of-type {\n",
       "        vertical-align: middle;\n",
       "    }\n",
       "\n",
       "    .dataframe tbody tr th {\n",
       "        vertical-align: top;\n",
       "    }\n",
       "\n",
       "    .dataframe thead th {\n",
       "        text-align: right;\n",
       "    }\n",
       "</style>\n",
       "<table border=\"1\" class=\"dataframe\">\n",
       "  <thead>\n",
       "    <tr style=\"text-align: right;\">\n",
       "      <th></th>\n",
       "      <th>COUNT(DISTINCT (team_long_name))</th>\n",
       "    </tr>\n",
       "  </thead>\n",
       "  <tbody>\n",
       "    <tr>\n",
       "      <th>0</th>\n",
       "      <td>296</td>\n",
       "    </tr>\n",
       "  </tbody>\n",
       "</table>\n",
       "</div>"
      ],
      "text/plain": [
       "   COUNT(DISTINCT (team_long_name))\n",
       "0                               296"
      ]
     },
     "execution_count": 14,
     "metadata": {},
     "output_type": "execute_result"
    }
   ],
   "source": [
    "pd.read_sql(\"\"\" SELECT COUNT(DISTINCT (team_long_name))\n",
    "                FROM Team;\"\"\", conn)"
   ]
  },
  {
   "cell_type": "code",
   "execution_count": null,
   "id": "eccb40d6",
   "metadata": {},
   "outputs": [],
   "source": [
    "pd.read_sql(\"\"\" SELECT COUNT(DISTINCT (team_long_name))\n",
    "                FROM Team;\"\"\", conn)"
   ]
  }
 ],
 "metadata": {
  "kernelspec": {
   "display_name": "Python 3 (ipykernel)",
   "language": "python",
   "name": "python3"
  },
  "language_info": {
   "codemirror_mode": {
    "name": "ipython",
    "version": 3
   },
   "file_extension": ".py",
   "mimetype": "text/x-python",
   "name": "python",
   "nbconvert_exporter": "python",
   "pygments_lexer": "ipython3",
   "version": "3.9.12"
  }
 },
 "nbformat": 4,
 "nbformat_minor": 5
}
